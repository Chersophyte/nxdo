{
 "cells": [
  {
   "cell_type": "code",
   "execution_count": 1,
   "metadata": {},
   "outputs": [],
   "source": [
    "import json\n",
    "import numpy as np\n",
    "import re\n",
    "from grl.p2sro.payoff_table import PayoffTable\n",
    "\n",
    "# psro_payoff_table_checkpoint_path = \"/home/jb/git/grl/grl/data/simple_push_psro/manager_08.41.48PM_Dec-28-2020/payoff_table_checkpoints/payoff_table_checkpoint_25.json\"\n",
    "# psro_policy_nums_path = \"/home/jb/git/grl/grl/data/simple_push_psro/manager_08.41.48PM_Dec-28-2020/payoff_table_checkpoints/policy_nums_checkpoint_25.json\"\n",
    "\n",
    "# psro_payoff_table_checkpoint_path = \"/home/jb/git/grl/grl/data/simple_push_psro/manager_10.59.03PM_Dec-28-2020/payoff_table_checkpoints/payoff_table_checkpoint_30.json\"\n",
    "# psro_policy_nums_path = \"/home/jb/git/grl/grl/data/simple_push_psro/manager_10.59.03PM_Dec-28-2020/payoff_table_checkpoints/policy_nums_checkpoint_30.json\"\n",
    "\n",
    "# psro_payoff_table_checkpoint_path = \"/home/jb/git/grl/grl/data/kuhn_psro/manager_06.02.17PM_Jan-14-2021/payoff_table_checkpoints/payoff_table_checkpoint_19.json\"\n",
    "# psro_policy_nums_path = \"/home/jb/git/grl/grl/data/kuhn_psro/manager_06.02.17PM_Jan-14-2021/payoff_table_checkpoints/policy_nums_checkpoint_19.json\"\n",
    "\n",
    "psro_payoff_table_checkpoint_path = \"/home/jblanier/git/grl/grl/data/80x_dummy_leduc_psro_dqn_gpu/manager_02.54.49PM_Jan-30-2021/payoff_table_checkpoints/payoff_table_checkpoint_latest.json\"\n",
    "psro_policy_nums_path = \"/home/jblanier/git/grl/grl/data/80x_dummy_leduc_psro_dqn_gpu/manager_02.54.49PM_Jan-30-2021/payoff_table_checkpoints/policy_nums_checkpoint_latest.json\"\n",
    "\n",
    "original_date = re.search(\"\\d\\d\\.\\d\\d.\\d\\d.\\w\\w\\w\\w\\w\\W\\d\\d\\W\\d\\d\\d\\d\", psro_payoff_table_checkpoint_path)[0]\n",
    "poker_version = \"leduc_poker\"\n",
    "\n",
    "with open(psro_policy_nums_path, \"r\") as policy_nums_file:\n",
    "    policy_nums = json.load(policy_nums_file)\n",
    "largest_fixed_policy_nums = (max(policy_nums['0']['fixed_policies']), max(policy_nums['1']['fixed_policies']))\n",
    "\n",
    "payoff_table = PayoffTable.from_json_file(json_file_path=psro_payoff_table_checkpoint_path)"
   ]
  },
  {
   "cell_type": "code",
   "execution_count": 2,
   "metadata": {
    "pycharm": {
     "name": "#%%\n"
    }
   },
   "outputs": [
    {
     "name": "stdout",
     "output_type": "stream",
     "text": [
      "\n",
      "\n",
      "Failed to import TensorFlow. Please note that TensorFlow is not installed by default when you install TensorFlow Probability. This is so that users can decide whether to install the GPU-enabled TensorFlow package. To use TensorFlow Probability, please install the most recent version of TensorFlow, by following instructions at https://tensorflow.org/install.\n",
      "\n",
      "\n",
      "\n",
      "\n",
      "Failed to import TensorFlow. Please note that TensorFlow is not installed by default when you install TensorFlow Probability. This is so that users can decide whether to install the GPU-enabled TensorFlow package. To use TensorFlow Probability, please install the most recent version of TensorFlow, by following instructions at https://tensorflow.org/install.\n",
      "\n",
      "\n",
      "\n",
      "\n",
      "Failed to import TensorFlow. Please note that TensorFlow is not installed by default when you install TensorFlow Probability. This is so that users can decide whether to install the GPU-enabled TensorFlow package. To use TensorFlow Probability, please install the most recent version of TensorFlow, by following instructions at https://tensorflow.org/install.\n",
      "\n",
      "\n"
     ]
    },
    {
     "name": "stderr",
     "output_type": "stream",
     "text": [
      "2021-02-01 01:38:12,128\tINFO worker.py:651 -- Connecting to existing Ray cluster at address: 192.168.86.2:6379\n",
      "2021-02-01 01:38:12,201\tINFO catalog.py:306 -- Wrapping <class 'grl.rllib_tools.valid_actions_fcnet.get_valid_action_fcn_class.<locals>.ValidActionFullyConnectedNetwork'> as None\n",
      "2021-02-01 01:38:13,075\tINFO catalog.py:306 -- Wrapping <class 'grl.rllib_tools.valid_actions_fcnet.get_valid_action_fcn_class.<locals>.ValidActionFullyConnectedNetwork'> as None\n",
      "2021-02-01 01:38:13,080\tINFO torch_policy.py:107 -- TorchPolicy running on GPU.\n",
      "2021-02-01 01:38:13,081\tINFO catalog.py:306 -- Wrapping <class 'grl.rllib_tools.valid_actions_fcnet.get_valid_action_fcn_class.<locals>.ValidActionFullyConnectedNetwork'> as None\n",
      "2021-02-01 01:38:13,084\tINFO catalog.py:306 -- Wrapping <class 'grl.rllib_tools.valid_actions_fcnet.get_valid_action_fcn_class.<locals>.ValidActionFullyConnectedNetwork'> as None\n",
      "2021-02-01 01:38:13,088\tINFO torch_policy.py:107 -- TorchPolicy running on GPU.\n"
     ]
    },
    {
     "name": "stdout",
     "output_type": "stream",
     "text": [
      "1 policies, 2.820833333333333 exploitability\n",
      "2 policies, 2.8746800238320773 exploitability\n",
      "3 policies, 1.953941385352364 exploitability\n",
      "4 policies, 2.4727325705637244 exploitability\n",
      "5 policies, 1.4974498157892377 exploitability\n",
      "6 policies, 1.2200332471428328 exploitability\n",
      "7 policies, 1.5767720982185096 exploitability\n",
      "8 policies, 1.4067817458019276 exploitability\n",
      "9 policies, 1.4863529795328327 exploitability\n",
      "10 policies, 1.0950292166624676 exploitability\n",
      "11 policies, 1.1989716719177355 exploitability\n",
      "12 policies, 1.3893415909683116 exploitability\n",
      "13 policies, 1.159388795394082 exploitability\n",
      "14 policies, 0.9456604834200284 exploitability\n",
      "15 policies, 1.0439419614593857 exploitability\n",
      "16 policies, 1.0406766955959408 exploitability\n",
      "17 policies, 0.8340039369945583 exploitability\n",
      "18 policies, 0.9195828105049013 exploitability\n",
      "19 policies, 0.7837571746906093 exploitability\n",
      "20 policies, 0.8158835206994856 exploitability\n",
      "21 policies, 0.7519730896648409 exploitability\n",
      "22 policies, 0.6817576981058625 exploitability\n",
      "23 policies, 0.8732004425672499 exploitability\n",
      "24 policies, 0.819590176270824 exploitability\n",
      "25 policies, 0.8087463292997827 exploitability\n",
      "26 policies, 0.7047039536290891 exploitability\n",
      "27 policies, 0.775757957516103 exploitability\n",
      "28 policies, 0.7049183190055386 exploitability\n",
      "29 policies, 0.6697288949463297 exploitability\n",
      "30 policies, 0.7091877496038439 exploitability\n",
      "31 policies, 0.7658136693576405 exploitability\n",
      "32 policies, 0.682773509923271 exploitability\n",
      "33 policies, 0.6594012525476509 exploitability\n",
      "34 policies, 0.7512530003877649 exploitability\n",
      "35 policies, 0.6446646471337163 exploitability\n",
      "36 policies, 0.8357830539041107 exploitability\n",
      "37 policies, 0.649284149621395 exploitability\n",
      "38 policies, 0.6127374937446493 exploitability\n",
      "39 policies, 0.7252731401026999 exploitability\n",
      "40 policies, 0.6615891076860066 exploitability\n",
      "41 policies, 0.6361531949392686 exploitability\n",
      "42 policies, 0.5943304071171919 exploitability\n",
      "43 policies, 0.7121980110772118 exploitability\n",
      "44 policies, 0.5722174635479926 exploitability\n",
      "45 policies, 0.5468816971086337 exploitability\n",
      "46 policies, 0.5737480632820409 exploitability\n",
      "47 policies, 0.5537794159452798 exploitability\n",
      "48 policies, 0.5661365760720478 exploitability\n",
      "49 policies, 0.5917999666611868 exploitability\n",
      "50 policies, 0.5886946520229154 exploitability\n",
      "51 policies, 0.5608156939103766 exploitability\n",
      "52 policies, 0.5566168725273091 exploitability\n",
      "53 policies, 0.5395726995969536 exploitability\n",
      "54 policies, 0.5091298430827796 exploitability\n",
      "55 policies, 0.5458130725551891 exploitability\n",
      "56 policies, 0.5354283111292252 exploitability\n",
      "57 policies, 0.4726148943060961 exploitability\n",
      "58 policies, 0.4878210236140673 exploitability\n",
      "59 policies, 0.49036699981824194 exploitability\n",
      "60 policies, 0.48230400650172683 exploitability\n",
      "61 policies, 0.5734658844243827 exploitability\n",
      "62 policies, 0.5074720895542568 exploitability\n",
      "63 policies, 0.5034426503898833 exploitability\n",
      "64 policies, 0.5268820890036972 exploitability\n",
      "65 policies, 0.5346189642259994 exploitability\n",
      "66 policies, 0.5395445200989623 exploitability\n",
      "67 policies, 0.5347529930928612 exploitability\n",
      "68 policies, 0.5108581691176775 exploitability\n",
      "69 policies, 0.5095860389032069 exploitability\n",
      "70 policies, 0.48978062207959117 exploitability\n",
      "71 policies, 0.5117346923941419 exploitability\n",
      "72 policies, 0.503866490541621 exploitability\n",
      "73 policies, 0.49289969898333275 exploitability\n",
      "74 policies, 0.4611671275952128 exploitability\n",
      "75 policies, 0.4476203446541172 exploitability\n",
      "76 policies, 0.43698497919570645 exploitability\n",
      "77 policies, 0.4518387851052977 exploitability\n",
      "78 policies, 0.45384046680367607 exploitability\n",
      "79 policies, 0.4291899633567212 exploitability\n",
      "80 policies, 0.4212836645069894 exploitability\n",
      "81 policies, 0.4276721467382003 exploitability\n",
      "82 policies, 0.4376435446417998 exploitability\n",
      "83 policies, 0.44331661853991644 exploitability\n",
      "84 policies, 0.42388046688105263 exploitability\n",
      "85 policies, 0.4386482256329095 exploitability\n",
      "86 policies, 0.43263471069262655 exploitability\n",
      "87 policies, 0.41976567807743603 exploitability\n",
      "88 policies, 0.4443385463066979 exploitability\n",
      "89 policies, 0.42813137039122734 exploitability\n",
      "90 policies, 0.45425997727733364 exploitability\n",
      "91 policies, 0.4570989780622553 exploitability\n",
      "92 policies, 0.45975064147941735 exploitability\n",
      "93 policies, 0.42108770758903924 exploitability\n",
      "94 policies, 0.4859660271357475 exploitability\n"
     ]
    }
   ],
   "source": [
    "from grl.rl_apps.kuhn_poker_p2sro.poker_utils import get_stats_for_single_payoff_table\n",
    "from grl.rl_apps.kuhn_poker_p2sro.poker_multi_agent_env import PokerMultiAgentEnv\n",
    "from grl.rl_apps.kuhn_poker_p2sro.config import psro_20x_dummy_leduc_params_gpu, psro_80x_dummy_leduc_params_gpu\n",
    "from ray.rllib.agents.dqn import SIMPLE_Q_DEFAULT_CONFIG\n",
    "from ray.rllib.utils import merge_dicts\n",
    "from grl.rllib_tools.modified_policies import SimpleQTorchPolicyPatched\n",
    "\n",
    "\n",
    "env_config = {'version': poker_version, \"fixed_players\": True, \"append_valid_actions_mask_to_obs\": True,\n",
    "                          \"dummy_action_multiplier\": 80,\n",
    "}\n",
    "env = PokerMultiAgentEnv(env_config=env_config)\n",
    "num_players = 2\n",
    "\n",
    "stats = get_stats_for_single_payoff_table(\n",
    "    payoff_table=payoff_table,\n",
    "    highest_policy_num=min(largest_fixed_policy_nums),\n",
    "    # highest_policy_num=6,\n",
    "    poker_env_config=env_config,\n",
    "    policy_class=SimpleQTorchPolicyPatched,\n",
    "    policy_config=merge_dicts(SIMPLE_Q_DEFAULT_CONFIG, psro_80x_dummy_leduc_params_gpu(action_space=env.action_space))\n",
    ")\n"
   ]
  },
  {
   "cell_type": "code",
   "execution_count": null,
   "metadata": {
    "pycharm": {
     "name": "#%%\n"
    }
   },
   "outputs": [],
   "source": [
    "stats"
   ]
  },
  {
   "cell_type": "code",
   "execution_count": 5,
   "metadata": {
    "pycharm": {
     "name": "#%%\n"
    }
   },
   "outputs": [],
   "source": [
    "\n",
    "import itertools\n",
    "import pandas as pd\n",
    "import plotly.express as px\n",
    "import plotly.io as pio\n",
    "# pio.renderers.default = 'png'\n",
    "pio.renderers.default = \"browser\"\n",
    "\n",
    "df = pd.DataFrame.from_dict(data=stats)\n",
    "fig = px.line(df, x=\"episodes\", y=\"exploitability\",\n",
    "              title='Leduc Poker PSRO Exploitability',\n",
    "              # range_x=[0, int(3e6)],\n",
    "              )\n",
    "fig.show()"
   ]
  },
  {
   "cell_type": "code",
   "execution_count": 6,
   "metadata": {
    "pycharm": {
     "name": "#%%\n"
    }
   },
   "outputs": [
    {
     "name": "stdout",
     "output_type": "stream",
     "text": [
      "saved to /home/jb/git/grl/grl/data/40x_dummy_leduc_psro_dqn_gpu_02.37.39AM_Jan-29-2021.json\n"
     ]
    }
   ],
   "source": [
    "save_path = f\"/home/jb/git/grl/grl/data/40x_dummy_leduc_psro_dqn_gpu_{original_date}.json\"\n",
    "with open(save_path, \"+w\") as json_file:\n",
    "    json.dump(stats, json_file)\n",
    "print(f\"saved to {save_path}\")"
   ]
  },
  {
   "cell_type": "code",
   "execution_count": null,
   "metadata": {
    "pycharm": {
     "name": "#%%\n"
    }
   },
   "outputs": [],
   "source": []
  },
  {
   "cell_type": "code",
   "execution_count": null,
   "metadata": {},
   "outputs": [],
   "source": []
  }
 ],
 "metadata": {
  "kernelspec": {
   "display_name": "Python 3",
   "language": "python",
   "name": "python3"
  },
  "language_info": {
   "codemirror_mode": {
    "name": "ipython",
    "version": 3
   },
   "file_extension": ".py",
   "mimetype": "text/x-python",
   "name": "python",
   "nbconvert_exporter": "python",
   "pygments_lexer": "ipython3",
   "version": "3.6.12"
  }
 },
 "nbformat": 4,
 "nbformat_minor": 1
}