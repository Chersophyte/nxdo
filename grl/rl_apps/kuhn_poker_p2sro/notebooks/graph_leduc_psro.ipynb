{
 "cells": [
  {
   "cell_type": "code",
   "execution_count": 11,
   "metadata": {
    "collapsed": true
   },
   "outputs": [],
   "source": [
    "import json\n",
    "import numpy as np\n",
    "import re\n",
    "from grl.p2sro.payoff_table import PayoffTable\n",
    "\n",
    "# psro_payoff_table_checkpoint_path = \"/home/jb/git/grl/grl/data/simple_push_psro/manager_08.41.48PM_Dec-28-2020/payoff_table_checkpoints/payoff_table_checkpoint_25.json\"\n",
    "# psro_policy_nums_path = \"/home/jb/git/grl/grl/data/simple_push_psro/manager_08.41.48PM_Dec-28-2020/payoff_table_checkpoints/policy_nums_checkpoint_25.json\"\n",
    "\n",
    "# psro_payoff_table_checkpoint_path = \"/home/jb/git/grl/grl/data/simple_push_psro/manager_10.59.03PM_Dec-28-2020/payoff_table_checkpoints/payoff_table_checkpoint_30.json\"\n",
    "# psro_policy_nums_path = \"/home/jb/git/grl/grl/data/simple_push_psro/manager_10.59.03PM_Dec-28-2020/payoff_table_checkpoints/policy_nums_checkpoint_30.json\"\n",
    "\n",
    "psro_payoff_table_checkpoint_path = \"/home/jb/git/grl/grl/data/kuhn_psro/manager_06.02.17PM_Jan-14-2021/payoff_table_checkpoints/payoff_table_checkpoint_19.json\"\n",
    "psro_policy_nums_path = \"/home/jb/git/grl/grl/data/kuhn_psro/manager_06.02.17PM_Jan-14-2021/payoff_table_checkpoints/policy_nums_checkpoint_19.json\"\n",
    "\n",
    "original_date = re.search(\"\\d\\d\\.\\d\\d.\\d\\d.\\w\\w\\w\\w\\w\\W\\d\\d\\W\\d\\d\\d\\d\", psro_payoff_table_checkpoint_path)[0]\n",
    "poker_version = \"leduc_poker\"\n",
    "\n",
    "with open(psro_policy_nums_path, \"r\") as policy_nums_file:\n",
    "    policy_nums = json.load(policy_nums_file)\n",
    "largest_fixed_policy_nums = (max(policy_nums['0']['fixed_policies']), max(policy_nums['1']['fixed_policies']))\n",
    "\n",
    "payoff_table = PayoffTable.from_json_file(json_file_path=psro_payoff_table_checkpoint_path)"
   ]
  },
  {
   "cell_type": "code",
   "execution_count": 12,
   "outputs": [
    {
     "name": "stderr",
     "output_type": "stream",
     "text": [
      "2021-01-14 20:24:38,847\tERROR worker.py:660 -- Calling ray.init() again after it has already been called.\n",
      "2021-01-14 20:24:38,851\tINFO catalog.py:306 -- Wrapping <class 'grl.rllib_tools.leduc_dqn.valid_actions_fcnet.LeducDQNFullyConnectedNetwork'> as None\n",
      "2021-01-14 20:24:38,855\tINFO catalog.py:306 -- Wrapping <class 'grl.rllib_tools.leduc_dqn.valid_actions_fcnet.LeducDQNFullyConnectedNetwork'> as None\n",
      "2021-01-14 20:24:38,860\tINFO torch_policy.py:107 -- TorchPolicy running on GPU.\n",
      "2021-01-14 20:24:38,869\tINFO catalog.py:306 -- Wrapping <class 'grl.rllib_tools.leduc_dqn.valid_actions_fcnet.LeducDQNFullyConnectedNetwork'> as None\n",
      "2021-01-14 20:24:38,872\tINFO catalog.py:306 -- Wrapping <class 'grl.rllib_tools.leduc_dqn.valid_actions_fcnet.LeducDQNFullyConnectedNetwork'> as None\n",
      "2021-01-14 20:24:38,876\tINFO torch_policy.py:107 -- TorchPolicy running on GPU.\n"
     ]
    },
    {
     "name": "stdout",
     "output_type": "stream",
     "text": [
      "payoff matrix as 0 (row) against 1 (columns):\n",
      "[[-1.35880005]]\n",
      "payoff matrix as 1 (row) against 0 (columns):\n",
      "[[1.35880005]]\n",
      "payoff matrix as 1 (row) against 0 (columns):\n",
      "[[1.35880005]]\n",
      "1 policies, 3.3416666666666672 exploitability\n",
      "payoff matrix as 0 (row) against 1 (columns):\n",
      "[[-1.35880005 -1.83959997]\n",
      " [ 1.93330002 -1.23319995]]\n",
      "payoff matrix as 1 (row) against 0 (columns):\n",
      "[[ 1.35880005 -1.93330002]\n",
      " [ 1.83959997  1.23319995]]\n",
      "payoff matrix as 1 (row) against 0 (columns):\n",
      "[[ 1.35880005 -1.93330002]\n",
      " [ 1.83959997  1.23319995]]\n",
      "2 policies, 3.2328626090656782 exploitability\n",
      "payoff matrix as 0 (row) against 1 (columns):\n",
      "[[-1.35880005 -1.83959997  0.075     ]\n",
      " [ 1.93330002 -1.23319995 -4.16610003]\n",
      " [ 0.60804999  0.90764999 -0.7579    ]]\n",
      "payoff matrix as 1 (row) against 0 (columns):\n",
      "[[ 1.35880005 -1.93330002 -0.60804999]\n",
      " [ 1.83959997  1.23319995 -0.90764999]\n",
      " [-0.075       4.16610003  0.7579    ]]\n",
      "payoff matrix as 1 (row) against 0 (columns):\n",
      "[[ 1.35880005 -1.93330002 -0.60804999]\n",
      " [ 1.83959997  1.23319995 -0.90764999]\n",
      " [-0.075       4.16610003  0.7579    ]]\n",
      "3 policies, 3.0383947432481033 exploitability\n",
      "payoff matrix as 0 (row) against 1 (columns):\n",
      "[[-1.35880005 -1.83959997  0.075      -1.93715   ]\n",
      " [ 1.93330002 -1.23319995 -4.16610003 -1.56719995]\n",
      " [ 0.60804999  0.90764999 -0.7579     -2.97230005]\n",
      " [ 0.02325     0.25009999  1.40409994 -0.39445001]]\n",
      "payoff matrix as 1 (row) against 0 (columns):\n",
      "[[ 1.35880005 -1.93330002 -0.60804999 -0.02325   ]\n",
      " [ 1.83959997  1.23319995 -0.90764999 -0.25009999]\n",
      " [-0.075       4.16610003  0.7579     -1.40409994]\n",
      " [ 1.93715     1.56719995  2.97230005  0.39445001]]\n",
      "payoff matrix as 1 (row) against 0 (columns):\n",
      "[[ 1.35880005 -1.93330002 -0.60804999 -0.02325   ]\n",
      " [ 1.83959997  1.23319995 -0.90764999 -0.25009999]\n",
      " [-0.075       4.16610003  0.7579     -1.40409994]\n",
      " [ 1.93715     1.56719995  2.97230005  0.39445001]]\n",
      "4 policies, 2.4662029411257715 exploitability\n",
      "payoff matrix as 0 (row) against 1 (columns):\n",
      "[[-1.35880005 -1.83959997  0.075      -1.93715    -0.96724999]\n",
      " [ 1.93330002 -1.23319995 -4.16610003 -1.56719995 -2.11275005]\n",
      " [ 0.60804999  0.90764999 -0.7579     -2.97230005 -1.47599995]\n",
      " [ 0.02325     0.25009999  1.40409994 -0.39445001 -1.81455004]\n",
      " [ 0.27985001 -0.2431      0.1121      1.05315006 -0.43364999]]\n",
      "payoff matrix as 1 (row) against 0 (columns):\n",
      "[[ 1.35880005 -1.93330002 -0.60804999 -0.02325    -0.27985001]\n",
      " [ 1.83959997  1.23319995 -0.90764999 -0.25009999  0.2431    ]\n",
      " [-0.075       4.16610003  0.7579     -1.40409994 -0.1121    ]\n",
      " [ 1.93715     1.56719995  2.97230005  0.39445001 -1.05315006]\n",
      " [ 0.96724999  2.11275005  1.47599995  1.81455004  0.43364999]]\n",
      "payoff matrix as 1 (row) against 0 (columns):\n",
      "[[ 1.35880005 -1.93330002 -0.60804999 -0.02325    -0.27985001]\n",
      " [ 1.83959997  1.23319995 -0.90764999 -0.25009999  0.2431    ]\n",
      " [-0.075       4.16610003  0.7579     -1.40409994 -0.1121    ]\n",
      " [ 1.93715     1.56719995  2.97230005  0.39445001 -1.05315006]\n",
      " [ 0.96724999  2.11275005  1.47599995  1.81455004  0.43364999]]\n",
      "5 policies, 3.178387273692497 exploitability\n"
     ]
    }
   ],
   "source": [
    "from grl.rl_apps.kuhn_poker_p2sro.poker_utils import get_stats_for_single_payoff_table\n",
    "from grl.rl_apps.kuhn_poker_p2sro.poker_multi_agent_env import PokerMultiAgentEnv\n",
    "from grl.rl_apps.kuhn_poker_p2sro.config import kuhn_sac_params, kuhn_dqn_params, leduc_dqn_params\n",
    "from ray.rllib.agents.dqn import SimpleQTorchPolicy, SIMPLE_Q_DEFAULT_CONFIG\n",
    "from ray.rllib.utils import merge_dicts\n",
    "\n",
    "env_config = {'version': poker_version, \"fixed_players\": True, \"append_valid_actions_mask_to_obs\": True}\n",
    "env = PokerMultiAgentEnv(env_config=env_config)\n",
    "num_players = 2\n",
    "\n",
    "stats = get_stats_for_single_payoff_table(\n",
    "    payoff_table=payoff_table,\n",
    "    highest_policy_num=min(largest_fixed_policy_nums),\n",
    "    # highest_policy_num=6,\n",
    "    poker_env_config=env_config,\n",
    "    policy_class=SimpleQTorchPolicy,\n",
    "    policy_config=merge_dicts(SIMPLE_Q_DEFAULT_CONFIG, leduc_dqn_params(action_space=env.action_space))\n",
    ")\n"
   ],
   "metadata": {
    "collapsed": false,
    "pycharm": {
     "name": "#%%\n"
    }
   }
  },
  {
   "cell_type": "code",
   "execution_count": 15,
   "outputs": [
    {
     "data": {
      "text/plain": "{'num_policies': [1, 2, 3, 4, 5],\n 'exploitability': [3.3416666666666672,\n  3.2328626090656782,\n  3.0383947432481033,\n  2.4662029411257715,\n  3.178387273692497],\n 'timesteps': [643968, 1287936, 1995904, 2639872, 3283840],\n 'episodes': [191341, 318026, 458593, 581061, 708462]}"
     },
     "execution_count": 15,
     "metadata": {},
     "output_type": "execute_result"
    }
   ],
   "source": [
    "stats"
   ],
   "metadata": {
    "collapsed": false,
    "pycharm": {
     "name": "#%%\n"
    }
   }
  },
  {
   "cell_type": "code",
   "execution_count": 16,
   "outputs": [],
   "source": [
    "\n",
    "import itertools\n",
    "import pandas as pd\n",
    "import plotly.express as px\n",
    "import plotly.io as pio\n",
    "# pio.renderers.default = 'png'\n",
    "pio.renderers.default = \"browser\"\n",
    "\n",
    "df = pd.DataFrame.from_dict(data=stats)\n",
    "fig = px.line(df, x=\"episodes\", y=\"exploitability\",\n",
    "              title='Leduc Poker PSRO Exploitability',\n",
    "              # range_x=[0, int(3e6)],\n",
    "              )\n",
    "fig.show()"
   ],
   "metadata": {
    "collapsed": false,
    "pycharm": {
     "name": "#%%\n"
    }
   }
  },
  {
   "cell_type": "code",
   "execution_count": null,
   "outputs": [],
   "source": [
    "save_path = f\"/home/jb/git/grl/grl/data/psro_stats_{poker_version}_{original_date}.json\"\n",
    "with open(save_path, \"+w\") as json_file:\n",
    "    json.dump(stats, json_file)\n",
    "print(f\"saved to {save_path}\")"
   ],
   "metadata": {
    "collapsed": false,
    "pycharm": {
     "name": "#%%\n"
    }
   }
  },
  {
   "cell_type": "code",
   "execution_count": null,
   "outputs": [],
   "source": [],
   "metadata": {
    "collapsed": false,
    "pycharm": {
     "name": "#%%\n"
    }
   }
  }
 ],
 "metadata": {
  "kernelspec": {
   "display_name": "Python 3",
   "language": "python",
   "name": "python3"
  },
  "language_info": {
   "codemirror_mode": {
    "name": "ipython",
    "version": 2
   },
   "file_extension": ".py",
   "mimetype": "text/x-python",
   "name": "python",
   "nbconvert_exporter": "python",
   "pygments_lexer": "ipython2",
   "version": "2.7.6"
  }
 },
 "nbformat": 4,
 "nbformat_minor": 0
}