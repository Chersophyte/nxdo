{
 "cells": [
  {
   "cell_type": "code",
   "execution_count": 5,
   "metadata": {
    "collapsed": true
   },
   "outputs": [],
   "source": [
    "import json\n",
    "import numpy as np\n",
    "import re\n",
    "from grl.p2sro.payoff_table import PayoffTable\n",
    "\n",
    "# psro_payoff_table_checkpoint_path = \"/home/jb/git/grl/grl/data/simple_push_psro/manager_08.41.48PM_Dec-28-2020/payoff_table_checkpoints/payoff_table_checkpoint_25.json\"\n",
    "# psro_policy_nums_path = \"/home/jb/git/grl/grl/data/simple_push_psro/manager_08.41.48PM_Dec-28-2020/payoff_table_checkpoints/policy_nums_checkpoint_25.json\"\n",
    "\n",
    "# psro_payoff_table_checkpoint_path = \"/home/jb/git/grl/grl/data/simple_push_psro/manager_10.59.03PM_Dec-28-2020/payoff_table_checkpoints/payoff_table_checkpoint_30.json\"\n",
    "# psro_policy_nums_path = \"/home/jb/git/grl/grl/data/simple_push_psro/manager_10.59.03PM_Dec-28-2020/payoff_table_checkpoints/policy_nums_checkpoint_30.json\"\n",
    "\n",
    "# psro_payoff_table_checkpoint_path = \"/home/jb/git/grl/grl/data/kuhn_psro/manager_06.02.17PM_Jan-14-2021/payoff_table_checkpoints/payoff_table_checkpoint_19.json\"\n",
    "# psro_policy_nums_path = \"/home/jb/git/grl/grl/data/kuhn_psro/manager_06.02.17PM_Jan-14-2021/payoff_table_checkpoints/policy_nums_checkpoint_19.json\"\n",
    "\n",
    "psro_payoff_table_checkpoint_path = \"/home/jb/git/grl/grl/data/kuhn_psro/manager_09.44.04PM_Jan-15-2021/payoff_table_checkpoints/payoff_table_checkpoint_198.json\"\n",
    "psro_policy_nums_path = \"/home/jb/git/grl/grl/data/kuhn_psro/manager_09.44.04PM_Jan-15-2021/payoff_table_checkpoints/policy_nums_checkpoint_198.json\"\n",
    "\n",
    "\n",
    "original_date = re.search(\"\\d\\d\\.\\d\\d.\\d\\d.\\w\\w\\w\\w\\w\\W\\d\\d\\W\\d\\d\\d\\d\", psro_payoff_table_checkpoint_path)[0]\n",
    "poker_version = \"leduc_poker\"\n",
    "\n",
    "with open(psro_policy_nums_path, \"r\") as policy_nums_file:\n",
    "    policy_nums = json.load(policy_nums_file)\n",
    "largest_fixed_policy_nums = (max(policy_nums['0']['fixed_policies']), max(policy_nums['1']['fixed_policies']))\n",
    "\n",
    "payoff_table = PayoffTable.from_json_file(json_file_path=psro_payoff_table_checkpoint_path)"
   ]
  },
  {
   "cell_type": "code",
   "execution_count": 6,
   "outputs": [
    {
     "name": "stderr",
     "output_type": "stream",
     "text": [
      "2021-01-18 15:48:46,828\tERROR worker.py:660 -- Calling ray.init() again after it has already been called.\n",
      "2021-01-18 15:48:46,833\tINFO catalog.py:306 -- Wrapping <class 'grl.rllib_tools.leduc_dqn.valid_actions_fcnet.LeducDQNFullyConnectedNetwork'> as None\n",
      "2021-01-18 15:48:46,837\tINFO catalog.py:306 -- Wrapping <class 'grl.rllib_tools.leduc_dqn.valid_actions_fcnet.LeducDQNFullyConnectedNetwork'> as None\n",
      "2021-01-18 15:48:46,843\tINFO torch_policy.py:107 -- TorchPolicy running on GPU.\n",
      "2021-01-18 15:48:46,864\tINFO catalog.py:306 -- Wrapping <class 'grl.rllib_tools.leduc_dqn.valid_actions_fcnet.LeducDQNFullyConnectedNetwork'> as None\n",
      "2021-01-18 15:48:46,871\tINFO catalog.py:306 -- Wrapping <class 'grl.rllib_tools.leduc_dqn.valid_actions_fcnet.LeducDQNFullyConnectedNetwork'> as None\n",
      "2021-01-18 15:48:46,877\tINFO torch_policy.py:107 -- TorchPolicy running on GPU.\n"
     ]
    },
    {
     "name": "stdout",
     "output_type": "stream",
     "text": [
      "payoff matrix as 0 (row) against 1 (columns):\n",
      "[[-0.38964999 -1.77909994 -0.9508     ...  1.62290001  0.0798\n",
      "  -0.85839999]\n",
      " [ 2.06620002  0.52495003 -2.13284993 ...  1.10769999 -0.08515\n",
      "  -0.33175001]\n",
      " [ 0.57779998  1.25825    -0.53060001 ... -0.3035     -0.88845003\n",
      "   0.22155   ]\n",
      " ...\n",
      " [-0.27904999 -0.49290001  0.92885    ...  0.19865    -0.38795\n",
      "   0.11855   ]\n",
      " [ 0.2174     -0.1459      0.4091     ... -0.0935     -0.30630001\n",
      "   0.04285   ]\n",
      " [ 0.71710002  0.15895    -0.29914999 ...  0.19805001 -0.02865\n",
      "   0.11055   ]]\n",
      "payoff matrix as 1 (row) against 0 (columns):\n",
      "[[ 0.38964999 -2.06620002 -0.57779998 ...  0.27904999 -0.2174\n",
      "  -0.71710002]\n",
      " [ 1.77909994 -0.52495003 -1.25825    ...  0.49290001  0.1459\n",
      "  -0.15895   ]\n",
      " [ 0.9508      2.13284993  0.53060001 ... -0.92885    -0.4091\n",
      "   0.29914999]\n",
      " ...\n",
      " [-1.62290001 -1.10769999  0.3035     ... -0.19865     0.0935\n",
      "  -0.19805001]\n",
      " [-0.0798      0.08515     0.88845003 ...  0.38795     0.30630001\n",
      "   0.02865   ]\n",
      " [ 0.85839999  0.33175001 -0.22155    ... -0.11855    -0.04285\n",
      "  -0.11055   ]]\n"
     ]
    },
    {
     "ename": "KeyboardInterrupt",
     "evalue": "",
     "output_type": "error",
     "traceback": [
      "\u001B[0;31m---------------------------------------------------------------------------\u001B[0m",
      "\u001B[0;31mKeyboardInterrupt\u001B[0m                         Traceback (most recent call last)",
      "\u001B[0;32m<ipython-input-6-3a0ed3d5d326>\u001B[0m in \u001B[0;36m<module>\u001B[0;34m\u001B[0m\n\u001B[1;32m     15\u001B[0m     \u001B[0mpoker_env_config\u001B[0m\u001B[0;34m=\u001B[0m\u001B[0menv_config\u001B[0m\u001B[0;34m,\u001B[0m\u001B[0;34m\u001B[0m\u001B[0;34m\u001B[0m\u001B[0m\n\u001B[1;32m     16\u001B[0m     \u001B[0mpolicy_class\u001B[0m\u001B[0;34m=\u001B[0m\u001B[0mSimpleQTorchPolicy\u001B[0m\u001B[0;34m,\u001B[0m\u001B[0;34m\u001B[0m\u001B[0;34m\u001B[0m\u001B[0m\n\u001B[0;32m---> 17\u001B[0;31m     \u001B[0mpolicy_config\u001B[0m\u001B[0;34m=\u001B[0m\u001B[0mmerge_dicts\u001B[0m\u001B[0;34m(\u001B[0m\u001B[0mSIMPLE_Q_DEFAULT_CONFIG\u001B[0m\u001B[0;34m,\u001B[0m \u001B[0mleduc_dqn_params\u001B[0m\u001B[0;34m(\u001B[0m\u001B[0maction_space\u001B[0m\u001B[0;34m=\u001B[0m\u001B[0menv\u001B[0m\u001B[0;34m.\u001B[0m\u001B[0maction_space\u001B[0m\u001B[0;34m)\u001B[0m\u001B[0;34m)\u001B[0m\u001B[0;34m\u001B[0m\u001B[0;34m\u001B[0m\u001B[0m\n\u001B[0m\u001B[1;32m     18\u001B[0m )\n\u001B[1;32m     19\u001B[0m \u001B[0;34m\u001B[0m\u001B[0m\n",
      "\u001B[0;32m~/git/grl/grl/rl_apps/kuhn_poker_p2sro/poker_utils.py\u001B[0m in \u001B[0;36mget_stats_for_single_payoff_table\u001B[0;34m(payoff_table, highest_policy_num, poker_env_config, policy_class, policy_config)\u001B[0m\n\u001B[1;32m    453\u001B[0m                                                           \u001B[0mas_policy_num\u001B[0m\u001B[0;34m=\u001B[0m\u001B[0mn_policies\u001B[0m\u001B[0;34m,\u001B[0m\u001B[0;34m\u001B[0m\u001B[0;34m\u001B[0m\u001B[0m\n\u001B[1;32m    454\u001B[0m                                                           \u001B[0mfictitious_play_iters\u001B[0m\u001B[0;34m=\u001B[0m\u001B[0;36m2000\u001B[0m\u001B[0;34m,\u001B[0m\u001B[0;34m\u001B[0m\u001B[0;34m\u001B[0m\u001B[0m\n\u001B[0;32m--> 455\u001B[0;31m                                                           mix_with_uniform_dist_coeff=0.0)[1].probabilities_for_each_strategy()\n\u001B[0m\u001B[1;32m    456\u001B[0m \u001B[0;34m\u001B[0m\u001B[0m\n\u001B[1;32m    457\u001B[0m         pure_strat_index = get_latest_metanash_strategies(payoff_table=payoff_table,\n",
      "\u001B[0;32m~/git/grl/grl/p2sro/p2sro_manager/utils.py\u001B[0m in \u001B[0;36mget_latest_metanash_strategies\u001B[0;34m(payoff_table, as_player, as_policy_num, fictitious_play_iters, mix_with_uniform_dist_coeff)\u001B[0m\n\u001B[1;32m     61\u001B[0m \u001B[0;34m\u001B[0m\u001B[0m\n\u001B[1;32m     62\u001B[0m         row_averages, col_averages, exps = fictitious_play(iters=fictitious_play_iters,\n\u001B[0;32m---> 63\u001B[0;31m                                           payoffs=player_payoff_matrix_current_player_is_rows)\n\u001B[0m\u001B[1;32m     64\u001B[0m         \u001B[0mselection_probs\u001B[0m \u001B[0;34m=\u001B[0m \u001B[0mnp\u001B[0m\u001B[0;34m.\u001B[0m\u001B[0mcopy\u001B[0m\u001B[0;34m(\u001B[0m\u001B[0mrow_averages\u001B[0m\u001B[0;34m[\u001B[0m\u001B[0;34m-\u001B[0m\u001B[0;36m1\u001B[0m\u001B[0;34m]\u001B[0m\u001B[0;34m)\u001B[0m\u001B[0;34m\u001B[0m\u001B[0;34m\u001B[0m\u001B[0m\n\u001B[1;32m     65\u001B[0m \u001B[0;34m\u001B[0m\u001B[0m\n",
      "\u001B[0;32m~/git/grl/grl/p2sro/p2sro_manager/utils.py\u001B[0m in \u001B[0;36mfictitious_play\u001B[0;34m(payoffs, iters, verbose)\u001B[0m\n\u001B[1;32m    112\u001B[0m         \u001B[0mcol_average\u001B[0m \u001B[0;34m=\u001B[0m \u001B[0mnp\u001B[0m\u001B[0;34m.\u001B[0m\u001B[0maverage\u001B[0m\u001B[0;34m(\u001B[0m\u001B[0mcol_pop\u001B[0m\u001B[0;34m,\u001B[0m \u001B[0maxis\u001B[0m\u001B[0;34m=\u001B[0m\u001B[0;36m0\u001B[0m\u001B[0;34m)\u001B[0m\u001B[0;34m\u001B[0m\u001B[0;34m\u001B[0m\u001B[0m\n\u001B[1;32m    113\u001B[0m \u001B[0;34m\u001B[0m\u001B[0m\n\u001B[0;32m--> 114\u001B[0;31m         \u001B[0mrow_br\u001B[0m\u001B[0;34m,\u001B[0m \u001B[0midx\u001B[0m \u001B[0;34m=\u001B[0m \u001B[0mget_br_to_strat\u001B[0m\u001B[0;34m(\u001B[0m\u001B[0mcol_average\u001B[0m\u001B[0;34m,\u001B[0m \u001B[0mpayoffs\u001B[0m\u001B[0;34m,\u001B[0m \u001B[0mstrat_is_row\u001B[0m\u001B[0;34m=\u001B[0m\u001B[0;32mFalse\u001B[0m\u001B[0;34m,\u001B[0m \u001B[0mverbose\u001B[0m\u001B[0;34m=\u001B[0m\u001B[0;32mFalse\u001B[0m\u001B[0;34m)\u001B[0m\u001B[0;34m\u001B[0m\u001B[0;34m\u001B[0m\u001B[0m\n\u001B[0m\u001B[1;32m    115\u001B[0m         \u001B[0mcol_br\u001B[0m\u001B[0;34m,\u001B[0m \u001B[0midx\u001B[0m \u001B[0;34m=\u001B[0m \u001B[0mget_br_to_strat\u001B[0m\u001B[0;34m(\u001B[0m\u001B[0mrow_average\u001B[0m\u001B[0;34m,\u001B[0m \u001B[0mpayoffs\u001B[0m\u001B[0;34m,\u001B[0m \u001B[0mstrat_is_row\u001B[0m\u001B[0;34m=\u001B[0m\u001B[0;32mTrue\u001B[0m\u001B[0;34m,\u001B[0m \u001B[0mverbose\u001B[0m\u001B[0;34m=\u001B[0m\u001B[0;32mFalse\u001B[0m\u001B[0;34m)\u001B[0m\u001B[0;34m\u001B[0m\u001B[0;34m\u001B[0m\u001B[0m\n\u001B[1;32m    116\u001B[0m \u001B[0;34m\u001B[0m\u001B[0m\n",
      "\u001B[0;32m~/git/grl/grl/p2sro/p2sro_manager/utils.py\u001B[0m in \u001B[0;36mget_br_to_strat\u001B[0;34m(strat, payoffs, strat_is_row, verbose)\u001B[0m\n\u001B[1;32m     87\u001B[0m         \u001B[0midx\u001B[0m \u001B[0;34m=\u001B[0m \u001B[0mnp\u001B[0m\u001B[0;34m.\u001B[0m\u001B[0margmin\u001B[0m\u001B[0;34m(\u001B[0m\u001B[0mweighted_payouts\u001B[0m\u001B[0;34m)\u001B[0m\u001B[0;34m\u001B[0m\u001B[0;34m\u001B[0m\u001B[0m\n\u001B[1;32m     88\u001B[0m     \u001B[0;32melse\u001B[0m\u001B[0;34m:\u001B[0m\u001B[0;34m\u001B[0m\u001B[0;34m\u001B[0m\u001B[0m\n\u001B[0;32m---> 89\u001B[0;31m         \u001B[0mweighted_payouts\u001B[0m \u001B[0;34m=\u001B[0m \u001B[0mpayoffs\u001B[0m \u001B[0;34m@\u001B[0m \u001B[0mstrat\u001B[0m\u001B[0;34m.\u001B[0m\u001B[0mT\u001B[0m\u001B[0;34m\u001B[0m\u001B[0;34m\u001B[0m\u001B[0m\n\u001B[0m\u001B[1;32m     90\u001B[0m         \u001B[0;32mif\u001B[0m \u001B[0mverbose\u001B[0m\u001B[0;34m:\u001B[0m\u001B[0;34m\u001B[0m\u001B[0;34m\u001B[0m\u001B[0m\n\u001B[1;32m     91\u001B[0m             \u001B[0mprint\u001B[0m\u001B[0;34m(\u001B[0m\u001B[0;34m\"strat \"\u001B[0m\u001B[0;34m,\u001B[0m \u001B[0mstrat\u001B[0m\u001B[0;34m)\u001B[0m\u001B[0;34m\u001B[0m\u001B[0;34m\u001B[0m\u001B[0m\n",
      "\u001B[0;31mKeyboardInterrupt\u001B[0m: "
     ]
    }
   ],
   "source": [
    "from grl.rl_apps.kuhn_poker_p2sro.poker_utils import get_stats_for_single_payoff_table\n",
    "from grl.rl_apps.kuhn_poker_p2sro.poker_multi_agent_env import PokerMultiAgentEnv\n",
    "from grl.rl_apps.kuhn_poker_p2sro.config import kuhn_sac_params, kuhn_dqn_params, leduc_dqn_params\n",
    "from ray.rllib.agents.dqn import SimpleQTorchPolicy, SIMPLE_Q_DEFAULT_CONFIG\n",
    "from ray.rllib.utils import merge_dicts\n",
    "\n",
    "env_config = {'version': poker_version, \"fixed_players\": True, \"append_valid_actions_mask_to_obs\": True,\n",
    "                          \"dummy_action_multiplier\": 20,\n",
    "}\n",
    "env = PokerMultiAgentEnv(env_config=env_config)\n",
    "num_players = 2\n",
    "\n",
    "stats = get_stats_for_single_payoff_table(\n",
    "    payoff_table=payoff_table,\n",
    "    highest_policy_num=min(largest_fixed_policy_nums),\n",
    "    # highest_policy_num=6,\n",
    "    poker_env_config=env_config,\n",
    "    policy_class=SimpleQTorchPolicy,\n",
    "    policy_config=merge_dicts(SIMPLE_Q_DEFAULT_CONFIG, leduc_dqn_params(action_space=env.action_space))\n",
    ")\n"
   ],
   "metadata": {
    "collapsed": false,
    "pycharm": {
     "name": "#%%\n"
    }
   }
  },
  {
   "cell_type": "code",
   "execution_count": 4,
   "outputs": [
    {
     "data": {
      "text/plain": "{'num_policies': [98],\n 'exploitability': [0.40914872320107104],\n 'timesteps': [643968],\n 'episodes': [181672]}"
     },
     "execution_count": 4,
     "metadata": {},
     "output_type": "execute_result"
    }
   ],
   "source": [
    "stats"
   ],
   "metadata": {
    "collapsed": false,
    "pycharm": {
     "name": "#%%\n"
    }
   }
  },
  {
   "cell_type": "code",
   "execution_count": null,
   "outputs": [],
   "source": [
    "\n",
    "import itertools\n",
    "import pandas as pd\n",
    "import plotly.express as px\n",
    "import plotly.io as pio\n",
    "# pio.renderers.default = 'png'\n",
    "pio.renderers.default = \"browser\"\n",
    "\n",
    "df = pd.DataFrame.from_dict(data=stats)\n",
    "fig = px.line(df, x=\"episodes\", y=\"exploitability\",\n",
    "              title='Leduc Poker PSRO Exploitability',\n",
    "              # range_x=[0, int(3e6)],\n",
    "              )\n",
    "fig.show()"
   ],
   "metadata": {
    "collapsed": false,
    "pycharm": {
     "name": "#%%\n"
    }
   }
  },
  {
   "cell_type": "code",
   "execution_count": null,
   "outputs": [],
   "source": [
    "save_path = f\"/home/jb/git/grl/grl/data/psro_stats_{poker_version}_{original_date}.json\"\n",
    "with open(save_path, \"+w\") as json_file:\n",
    "    json.dump(stats, json_file)\n",
    "print(f\"saved to {save_path}\")"
   ],
   "metadata": {
    "collapsed": false,
    "pycharm": {
     "name": "#%%\n"
    }
   }
  },
  {
   "cell_type": "code",
   "execution_count": null,
   "outputs": [],
   "source": [],
   "metadata": {
    "collapsed": false,
    "pycharm": {
     "name": "#%%\n"
    }
   }
  }
 ],
 "metadata": {
  "kernelspec": {
   "display_name": "Python 3",
   "language": "python",
   "name": "python3"
  },
  "language_info": {
   "codemirror_mode": {
    "name": "ipython",
    "version": 2
   },
   "file_extension": ".py",
   "mimetype": "text/x-python",
   "name": "python",
   "nbconvert_exporter": "python",
   "pygments_lexer": "ipython2",
   "version": "2.7.6"
  }
 },
 "nbformat": 4,
 "nbformat_minor": 0
}