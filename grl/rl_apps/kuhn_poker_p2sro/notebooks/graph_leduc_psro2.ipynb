{
 "cells": [
  {
   "cell_type": "code",
   "execution_count": 1,
   "metadata": {
    "scrolled": true
   },
   "outputs": [],
   "source": [
    "import json\n",
    "import numpy as np\n",
    "import re\n",
    "from grl.p2sro.payoff_table import PayoffTable\n",
    "\n",
    "# psro_payoff_table_checkpoint_path = \"/home/jb/git/grl/grl/data/simple_push_psro/manager_08.41.48PM_Dec-28-2020/payoff_table_checkpoints/payoff_table_checkpoint_25.json\"\n",
    "# psro_policy_nums_path = \"/home/jb/git/grl/grl/data/simple_push_psro/manager_08.41.48PM_Dec-28-2020/payoff_table_checkpoints/policy_nums_checkpoint_25.json\"\n",
    "\n",
    "# psro_payoff_table_checkpoint_path = \"/home/jb/git/grl/grl/data/simple_push_psro/manager_10.59.03PM_Dec-28-2020/payoff_table_checkpoints/payoff_table_checkpoint_30.json\"\n",
    "# psro_policy_nums_path = \"/home/jb/git/grl/grl/data/simple_push_psro/manager_10.59.03PM_Dec-28-2020/payoff_table_checkpoints/policy_nums_checkpoint_30.json\"\n",
    "\n",
    "# psro_payoff_table_checkpoint_path = \"/home/jb/git/grl/grl/data/kuhn_psro/manager_06.02.17PM_Jan-14-2021/payoff_table_checkpoints/payoff_table_checkpoint_19.json\"\n",
    "# psro_policy_nums_path = \"/home/jb/git/grl/grl/data/kuhn_psro/manager_06.02.17PM_Jan-14-2021/payoff_table_checkpoints/policy_nums_checkpoint_19.json\"\n",
    "\n",
    "psro_payoff_table_checkpoint_path = \"/home/jblanier/git/grl/grl/data/20x_dummy_leduc_psro_dqn_gpu/manager_08.29.17PM_Jan-27-2021/payoff_table_checkpoints/payoff_table_checkpoint_latest.json\"\n",
    "psro_policy_nums_path = \"/home/jblanier/git/grl/grl/data/20x_dummy_leduc_psro_dqn_gpu/manager_08.29.17PM_Jan-27-2021/payoff_table_checkpoints/policy_nums_checkpoint_latest.json\"\n",
    "\n",
    "\n",
    "original_date = re.search(\"\\d\\d\\.\\d\\d.\\d\\d.\\w\\w\\w\\w\\w\\W\\d\\d\\W\\d\\d\\d\\d\", psro_payoff_table_checkpoint_path)[0]\n",
    "poker_version = \"leduc_poker\"\n",
    "\n",
    "with open(psro_policy_nums_path, \"r\") as policy_nums_file:\n",
    "    policy_nums = json.load(policy_nums_file)\n",
    "largest_fixed_policy_nums = (max(policy_nums['0']['fixed_policies']), max(policy_nums['1']['fixed_policies']))\n",
    "\n",
    "payoff_table = PayoffTable.from_json_file(json_file_path=psro_payoff_table_checkpoint_path)"
   ]
  },
  {
   "cell_type": "code",
   "execution_count": null,
   "metadata": {
    "pycharm": {
     "name": "#%%\n"
    },
    "scrolled": false
   },
   "outputs": [
    {
     "name": "stdout",
     "output_type": "stream",
     "text": [
      "WARNING:tensorflow:From /home/jb/anaconda3/envs/grlup/lib/python3.6/site-packages/tensorflow/python/compat/v2_compat.py:96: disable_resource_variables (from tensorflow.python.ops.variable_scope) is deprecated and will be removed in a future version.\n",
      "Instructions for updating:\n",
      "non-resource variables are not supported in the long term\n"
     ]
    },
    {
     "name": "stderr",
     "output_type": "stream",
     "text": [
      "2021-01-29 16:48:06,093\tINFO worker.py:651 -- Connecting to existing Ray cluster at address: 192.168.86.2:6379\n",
      "2021-01-29 16:48:06,167\tINFO catalog.py:306 -- Wrapping <class 'grl.rllib_tools.valid_actions_fcnet.get_valid_action_fcn_class.<locals>.ValidActionFullyConnectedNetwork'> as None\n",
      "2021-01-29 16:48:07,680\tINFO catalog.py:306 -- Wrapping <class 'grl.rllib_tools.valid_actions_fcnet.get_valid_action_fcn_class.<locals>.ValidActionFullyConnectedNetwork'> as None\n",
      "2021-01-29 16:48:07,685\tINFO torch_policy.py:107 -- TorchPolicy running on GPU.\n",
      "2021-01-29 16:48:07,687\tINFO catalog.py:306 -- Wrapping <class 'grl.rllib_tools.valid_actions_fcnet.get_valid_action_fcn_class.<locals>.ValidActionFullyConnectedNetwork'> as None\n",
      "2021-01-29 16:48:07,690\tINFO catalog.py:306 -- Wrapping <class 'grl.rllib_tools.valid_actions_fcnet.get_valid_action_fcn_class.<locals>.ValidActionFullyConnectedNetwork'> as None\n",
      "2021-01-29 16:48:07,695\tINFO torch_policy.py:107 -- TorchPolicy running on GPU.\n"
     ]
    },
    {
     "name": "stdout",
     "output_type": "stream",
     "text": [
      "1 policies, 3.508333333333333 exploitability\n",
      "2 policies, 1.879141730969513 exploitability\n",
      "3 policies, 1.9842501417020713 exploitability\n",
      "4 policies, 2.0114932271611456 exploitability\n",
      "5 policies, 1.3292150393402753 exploitability\n",
      "6 policies, 1.903120677324066 exploitability\n",
      "7 policies, 1.921764947944312 exploitability\n",
      "8 policies, 1.3651048509047239 exploitability\n",
      "9 policies, 1.5661108749169141 exploitability\n",
      "10 policies, 1.358914097194444 exploitability\n",
      "11 policies, 1.2175227435604115 exploitability\n",
      "12 policies, 1.2792369514138837 exploitability\n",
      "13 policies, 1.1458801328084922 exploitability\n",
      "14 policies, 1.1387320625086605 exploitability\n",
      "15 policies, 1.143587943889444 exploitability\n",
      "16 policies, 0.9333655137391501 exploitability\n",
      "17 policies, 0.9568876978347508 exploitability\n",
      "18 policies, 1.1648816071851833 exploitability\n",
      "19 policies, 1.1182550429608609 exploitability\n",
      "20 policies, 0.8026323037265959 exploitability\n",
      "21 policies, 0.6772472295707619 exploitability\n",
      "22 policies, 0.7032075983769923 exploitability\n",
      "23 policies, 0.7334928236591758 exploitability\n",
      "24 policies, 0.7714304381777386 exploitability\n",
      "25 policies, 0.6116852118948589 exploitability\n",
      "26 policies, 0.7766898764924466 exploitability\n",
      "27 policies, 0.6333765193855245 exploitability\n",
      "28 policies, 0.48995393630473055 exploitability\n",
      "29 policies, 0.6041868013882372 exploitability\n",
      "30 policies, 0.6614867550640111 exploitability\n",
      "31 policies, 0.6395561046014548 exploitability\n",
      "32 policies, 0.514573258980065 exploitability\n",
      "33 policies, 0.45740316305433326 exploitability\n",
      "34 policies, 0.4328032378462375 exploitability\n",
      "35 policies, 0.5622118303119382 exploitability\n",
      "36 policies, 0.5226341097314825 exploitability\n",
      "37 policies, 0.46474403421234545 exploitability\n",
      "38 policies, 0.429090906520333 exploitability\n",
      "39 policies, 0.4789515600461403 exploitability\n",
      "40 policies, 0.4258648545399859 exploitability\n",
      "41 policies, 0.3679116676906139 exploitability\n",
      "42 policies, 0.36199680546952784 exploitability\n",
      "43 policies, 0.4537350321914922 exploitability\n",
      "44 policies, 0.41401533832684567 exploitability\n"
     ]
    }
   ],
   "source": [
    "from grl.rl_apps.kuhn_poker_p2sro.poker_utils import get_stats_for_single_payoff_table\n",
    "from grl.rl_apps.kuhn_poker_p2sro.poker_multi_agent_env import PokerMultiAgentEnv\n",
    "from grl.rl_apps.kuhn_poker_p2sro.config import psro_20x_dummy_leduc_params_gpu\n",
    "from ray.rllib.agents.dqn import SIMPLE_Q_DEFAULT_CONFIG\n",
    "from ray.rllib.utils import merge_dicts\n",
    "from grl.rllib_tools.modified_policies import SimpleQTorchPolicyPatched\n",
    "\n",
    "\n",
    "env_config = {'version': poker_version, \"fixed_players\": True, \"append_valid_actions_mask_to_obs\": True,\n",
    "                          \"dummy_action_multiplier\": 20,\n",
    "}\n",
    "env = PokerMultiAgentEnv(env_config=env_config)\n",
    "num_players = 2\n",
    "\n",
    "stats = get_stats_for_single_payoff_table(\n",
    "    payoff_table=payoff_table,\n",
    "    highest_policy_num=min(largest_fixed_policy_nums),\n",
    "    # highest_policy_num=6,\n",
    "    poker_env_config=env_config,\n",
    "    policy_class=SimpleQTorchPolicyPatched,\n",
    "    policy_config=merge_dicts(SIMPLE_Q_DEFAULT_CONFIG, psro_20x_dummy_leduc_params_gpu(action_space=env.action_space))\n",
    ")\n"
   ]
  },
  {
   "cell_type": "code",
   "execution_count": null,
   "metadata": {
    "pycharm": {
     "name": "#%%\n"
    },
    "scrolled": true
   },
   "outputs": [],
   "source": [
    "stats"
   ]
  },
  {
   "cell_type": "code",
   "execution_count": null,
   "metadata": {
    "pycharm": {
     "name": "#%%\n"
    },
    "scrolled": true
   },
   "outputs": [],
   "source": [
    "\n",
    "import itertools\n",
    "import pandas as pd\n",
    "import plotly.express as px\n",
    "import plotly.io as pio\n",
    "# pio.renderers.default = 'png'\n",
    "pio.renderers.default = \"browser\"\n",
    "\n",
    "df = pd.DataFrame.from_dict(data=stats)\n",
    "fig = px.line(df, x=\"episodes\", y=\"exploitability\",\n",
    "              title='Leduc Poker PSRO Exploitability',\n",
    "              # range_x=[0, int(3e6)],\n",
    "              )\n",
    "fig.show()"
   ]
  },
  {
   "cell_type": "code",
   "execution_count": null,
   "metadata": {
    "pycharm": {
     "name": "#%%\n"
    },
    "scrolled": true
   },
   "outputs": [],
   "source": [
    "save_path = f\"/home/jb/git/grl/grl/data/psro_stats_{poker_version}_{original_date}.json\"\n",
    "with open(save_path, \"+w\") as json_file:\n",
    "    json.dump(stats, json_file)\n",
    "print(f\"saved to {save_path}\")"
   ]
  },
  {
   "cell_type": "code",
   "execution_count": null,
   "metadata": {
    "pycharm": {
     "name": "#%%\n"
    },
    "scrolled": true
   },
   "outputs": [],
   "source": []
  }
 ],
 "metadata": {
  "kernelspec": {
   "display_name": "Python 3",
   "language": "python",
   "name": "python3"
  },
  "language_info": {
   "codemirror_mode": {
    "name": "ipython",
    "version": 3
   },
   "file_extension": ".py",
   "mimetype": "text/x-python",
   "name": "python",
   "nbconvert_exporter": "python",
   "pygments_lexer": "ipython3",
   "version": "3.6.12"
  }
 },
 "nbformat": 4,
 "nbformat_minor": 1
}