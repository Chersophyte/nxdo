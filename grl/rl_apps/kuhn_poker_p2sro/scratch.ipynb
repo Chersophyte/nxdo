{
 "cells": [
  {
   "cell_type": "code",
   "execution_count": 25,
   "metadata": {
    "collapsed": true
   },
   "outputs": [
    {
     "ename": "IndentationError",
     "evalue": "expected an indented block (<ipython-input-25-f8da194b49ba>, line 22)",
     "output_type": "error",
     "traceback": [
      "\u001B[0;36m  File \u001B[0;32m\"<ipython-input-25-f8da194b49ba>\"\u001B[0;36m, line \u001B[0;32m22\u001B[0m\n\u001B[0;31m    open_spiel_env_config = {\"players\": pyspiel.GameParameter(2)}\u001B[0m\n\u001B[0m                        ^\u001B[0m\n\u001B[0;31mIndentationError\u001B[0m\u001B[0;31m:\u001B[0m expected an indented block\n"
     ]
    }
   ],
   "source": [
    "\n",
    "import numpy as np\n",
    "\n",
    "from open_spiel.python.policy import Policy, tabular_policy_from_callable\n",
    "from open_spiel.python.algorithms.exploitability import exploitability\n",
    "\n",
    "import pyspiel\n",
    "\n",
    "\n",
    "\n",
    "def create_random_tabular_policy(game, players=(0,1)) -> Policy:\n",
    "    def _random_action_callable_policy(state) -> dict:\n",
    "        legal_actions_list = state.legal_actions()\n",
    "        chosen_legal_action = np.random.choice(legal_actions_list)\n",
    "        return {action: (1.0 if action == chosen_legal_action else 0.0) for action in legal_actions_list}\n",
    "    return tabular_policy_from_callable(game=game, players=players, callable_policy=_random_action_callable_policy)\n",
    "\n",
    "\n",
    "def policy_class_instance_to_full_policy(policy_class_instance):\n",
    "    #why does openspiel have two definitions of a policyyyy\n",
    "    def wrap(state):\n",
    "        action_probs = policy_class_instance.action_probabilities(state=state, player_id=example_state.current_player())\n",
    "        ap_list = []\n",
    "        for action, probs in action_probs.items():\n",
    "            ap_list.append((action, probs))\n",
    "        return ap_list\n",
    "    return wrap\n",
    "\n",
    "open_spiel_env_config = {\"players\": pyspiel.GameParameter(2)}\n",
    "game = pyspiel.load_game(\"leduc_poker\", open_spiel_env_config)\n",
    "\n",
    "#Make an example state where player 0 or 1 is current_player\n",
    "example_state = game.new_initial_state()\n",
    "example_state.apply_action(0)\n",
    "example_state.apply_action(1)\n",
    "print(f\"Example state: {example_state.current_player()}\")\n",
    "\n",
    "print(f\"First random policy:\")\n",
    "random_tabular_policy = create_random_tabular_policy(game=game, players=(0,1))\n",
    "random_tabular_policy1 = random_tabular_policy\n",
    "print(\"These two should be the same:\")\n",
    "print(random_tabular_policy.action_probabilities(state=example_state, player_id=example_state.current_player()))\n",
    "print(random_tabular_policy.action_probabilities(state=example_state, player_id=example_state.current_player()))\n",
    "\n",
    "exploitability_result = exploitability(game=game, policy=random_tabular_policy)\n",
    "print(f\"First random policy exploitability is {exploitability_result}\")\n",
    "exploitability_result = exploitability(game=game, policy=random_tabular_policy)\n",
    "print(f\"First random policy exploitability is {exploitability_result}\")\n",
    "\n",
    "print(f\"Second random policy:\")\n",
    "random_tabular_policy = create_random_tabular_policy(game=game, players=(0,1))\n",
    "print(\"These two should be the same:\")\n",
    "print(random_tabular_policy.action_probabilities(state=example_state, player_id=example_state.current_player()))\n",
    "print(random_tabular_policy.action_probabilities(state=example_state, player_id=example_state.current_player()))\n",
    "\n",
    "exploitability_result = exploitability(game=game, policy=random_tabular_policy)\n",
    "print(f\"Second random policy exploitability is {exploitability_result}\")\n",
    "exploitability_result = exploitability(game=game, policy=random_tabular_policy)\n",
    "print(f\"Second random policy exploitability is {exploitability_result}\")"
   ]
  },
  {
   "cell_type": "code",
   "execution_count": null,
   "outputs": [],
   "source": [],
   "metadata": {
    "collapsed": false,
    "pycharm": {
     "name": "#%%\n"
    }
   }
  }
 ],
 "metadata": {
  "kernelspec": {
   "display_name": "Python 3",
   "language": "python",
   "name": "python3"
  },
  "language_info": {
   "codemirror_mode": {
    "name": "ipython",
    "version": 2
   },
   "file_extension": ".py",
   "mimetype": "text/x-python",
   "name": "python",
   "nbconvert_exporter": "python",
   "pygments_lexer": "ipython2",
   "version": "2.7.6"
  }
 },
 "nbformat": 4,
 "nbformat_minor": 0
}